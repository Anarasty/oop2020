{
 "cells": [
  {
   "cell_type": "markdown",
   "metadata": {},
   "source": [
    "# Лекція 2. Як Python інтерпретує програми "
   ]
  },
  {
   "cell_type": "markdown",
   "metadata": {},
   "source": [
    "<img src='./images/1_1_Program_run.png'></img>"
   ]
  },
  {
   "cell_type": "markdown",
   "metadata": {},
   "source": [
    "\n",
    "* **Інерпретатор python** - програма, яка виконує програми на мові Рython\n",
    "\n",
    "\n",
    "* **Ісходний програмний код** - інструкції, які у сукупності, уявляють собою програму\n",
    "\n",
    "\n",
    "* **Байт код** - низькорівневе представлення програми після її компіляції. Байт код знаходиться в файлах з розширенням .pyc\n",
    "\n",
    "\n",
    "* **PVM (Python Virtual Machine)** - механізм Python, який інтерпретує скомпільований програмний код мови Python"
   ]
  },
  {
   "cell_type": "markdown",
   "metadata": {},
   "source": [
    "**Python** це високорівнева мова програмування, що інтерпретується, інтерактивна і об'єктно-орієнтована скриптова мова програмування. \n",
    "\n",
    "Python був розроблений як мова, яка **легко читається**, в якій часто використовуються в якості ключових слів слова англійської мови.\n",
    "\n",
    "Код Python інтерпретується: вихідний код на Python НЕ компілюється в машинний код, а виконується безпосередньо за допомогою спеціальної програми-інтерпретатора.\n",
    "\n",
    "Python це інтерактивна мова програмування: Це означає, що ви можете писати код безпосередньо в оболонці інтерпретатора і вводити нові команди коду по мірі виконання попередніх команд.\n",
    "\n",
    "Python є **об'єктно-орієнтованої мовою програмування**. Python підтримує принципи ООП, які мають на увазі инкапсуляцию коду в особливі структури, іменовані об'єктами."
   ]
  },
  {
   "cell_type": "markdown",
   "metadata": {},
   "source": [
    "***"
   ]
  },
  {
   "cell_type": "markdown",
   "metadata": {},
   "source": [
    "# Лекція 3. Як запускати програми практики "
   ]
  },
  {
   "cell_type": "markdown",
   "metadata": {},
   "source": [
    "**Інтерактивна командна оболонка - AWS Sageaker Jupyter NOtebook ** \n",
    "\n",
    "Команди виконуються відразу після натиснення клавіши Enter. Це дуже добре для проведення експериментів на кодом для аналізу результату. Але, інструкції (код) програми введені під час інтерактивного сеансу **AWS Sagemaker Jupyter Notebook**  зберігаються у вашому інстансі "
   ]
  },
  {
   "cell_type": "markdown",
   "metadata": {},
   "source": [
    "**Модуль** - файл із кодом на мові Python, який може бути імпортований іншими файлами"
   ]
  },
  {
   "cell_type": "code",
   "execution_count": 6,
   "metadata": {},
   "outputs": [
    {
     "name": "stdout",
     "output_type": "stream",
     "text": [
      "win32\n",
      "Привіт світ!\n",
      "1267650600228229401496703205376\n",
      "Spam!Spam!Spam!Spam!Spam!Spam!Spam!Spam!\n"
     ]
    }
   ],
   "source": [
    "# Перший сценарій на мові Python\n",
    "import sys\n",
    "print(sys.platform)\n",
    "print(\"Привіт світ!\")\n",
    "print(2 ** 100)\n",
    "x = 'Spam!'\n",
    "print(x * 8)\n",
    "# команда, що показує шлях до інтерпретатора python"
   ]
  },
  {
   "cell_type": "markdown",
   "metadata": {},
   "source": [
    "**shebang** - перша строка в файлах в системі linux, яка вказує, де знаходиться інтерпретатор Python\n",
    "\n",
    "\n",
    "`#!/usr/local/bin/python`\n",
    "\n",
    "`#!/usr/bin/env python` - env - команда, яка сама знаходить інтерпретатор Python"
   ]
  },
  {
   "cell_type": "markdown",
   "metadata": {},
   "source": [
    "`import` - виконує завантаження другого файлу і забезпечує доступ до йог змісту \n",
    "\n",
    "**операція импорту** на заключному етапі приводить до **виконання** програмного коду файлу, завантажується (але, лише один раз. Якщо імпортувати повторно, тоді код виконуватися не буде). Якщо потрібно багатократний запуск (імпорт) модуля, тоді можна скористатися функцією `reload` із модуля `imp` стандартної бібліотеки (`from imp import reload`).\n",
    "\n",
    "Але, операція перзавантаження не є транзитивною - перезавантажується лише модуль, вказаний у виклику функції `reload`, але не перезавантажуються модулі, які він імпортує. \n",
    "\n",
    "`reload` - прймає тільки і'мя вже завантаженого модуля. \n"
   ]
  },
  {
   "cell_type": "code",
   "execution_count": 3,
   "metadata": {},
   "outputs": [
    {
     "name": "stdout",
     "output_type": "stream",
     "text": [
      "The Zen of Python, by Tim Peters\n",
      "\n",
      "Beautiful is better than ugly.\n",
      "Explicit is better than implicit.\n",
      "Simple is better than complex.\n",
      "Complex is better than complicated.\n",
      "Flat is better than nested.\n",
      "Sparse is better than dense.\n",
      "Readability counts.\n",
      "Special cases aren't special enough to break the rules.\n",
      "Although practicality beats purity.\n",
      "Errors should never pass silently.\n",
      "Unless explicitly silenced.\n",
      "In the face of ambiguity, refuse the temptation to guess.\n",
      "There should be one-- and preferably only one --obvious way to do it.\n",
      "Although that way may not be obvious at first unless you're Dutch.\n",
      "Now is better than never.\n",
      "Although never is often better than *right* now.\n",
      "If the implementation is hard to explain, it's a bad idea.\n",
      "If the implementation is easy to explain, it may be a good idea.\n",
      "Namespaces are one honking great idea -- let's do more of those!\n"
     ]
    }
   ],
   "source": [
    "# The Zen of Python\n",
    "import this"
   ]
  },
  {
   "cell_type": "markdown",
   "metadata": {},
   "source": [
    "The Zen of Python Тіма Пейтерса. Текст філософії:\n",
    "\n",
    "Гарне краще за потворне.\n",
    "\n",
    "Явне краще за неявне.\n",
    "\n",
    "Просте краще за складне.\n",
    "\n",
    "Складне краще за заплутане.\n",
    "\n",
    "Плоске краще за вкладене.\n",
    "\n",
    "Розріджене краще за щільне.\n",
    "\n",
    "Легкість читання має значення.\n",
    "\n",
    "Особливі випадки не є настільки особливими, щоб порушувати правила.\n",
    "\n",
    "Хоча практичність є важливішою за бездоганність.\n",
    "\n",
    "Помилки ніколи не повинні проходити непомітно.\n",
    "\n",
    "Якщо їх приховування не прописано явно.\n",
    "\n",
    "Зустрівши неоднозначність, опирайтесь спокусі вгадати.\n",
    "\n",
    "Має бути один — і, бажано, тільки один — очевидний спосіб зробити це.\n",
    "\n",
    "Хоча спочатку він може бути й не очевидним, якщо ви не голландець.\n",
    "\n",
    "Зараз — краще, ніж ніколи.\n",
    "\n",
    "Хоча ніколи, найчастіше, — краще, ніж просто зараз.\n",
    "\n",
    "Якщо реалізацію важко пояснити — задум поганий.\n",
    "\n",
    "Якщо реалізацію легко пояснити — можливо, задум добрий.\n",
    "\n",
    "Простори імен — чудова річ, тож робімо їх більше!"
   ]
  },
  {
   "cell_type": "code",
   "execution_count": 4,
   "metadata": {
    "scrolled": false
   },
   "outputs": [
    {
     "name": "stdout",
     "output_type": "stream",
     "text": [
      "The Zen of Python, by Tim Peters\n",
      "\n",
      "Beautiful is better than ugly.\n",
      "Explicit is better than implicit.\n",
      "Simple is better than complex.\n",
      "Complex is better than complicated.\n",
      "Flat is better than nested.\n",
      "Sparse is better than dense.\n",
      "Readability counts.\n",
      "Special cases aren't special enough to break the rules.\n",
      "Although practicality beats purity.\n",
      "Errors should never pass silently.\n",
      "Unless explicitly silenced.\n",
      "In the face of ambiguity, refuse the temptation to guess.\n",
      "There should be one-- and preferably only one --obvious way to do it.\n",
      "Although that way may not be obvious at first unless you're Dutch.\n",
      "Now is better than never.\n",
      "Although never is often better than *right* now.\n",
      "If the implementation is hard to explain, it's a bad idea.\n",
      "If the implementation is easy to explain, it may be a good idea.\n",
      "Namespaces are one honking great idea -- let's do more of those!\n"
     ]
    },
    {
     "data": {
      "text/plain": [
       "<module 'this' from 'C:\\\\Users\\\\ssylantyev\\\\anaconda3\\\\lib\\\\this.py'>"
      ]
     },
     "execution_count": 4,
     "metadata": {},
     "output_type": "execute_result"
    }
   ],
   "source": [
    "from imp import reload\n",
    "reload(this)"
   ]
  },
  {
   "cell_type": "markdown",
   "metadata": {},
   "source": [
    "Операції імпортування і перезавантаження модулів забезпечує природний спосіб запуску програми, тому що на заключному етапі цих операцій відбувається виконання файлів. При цьому, у більш широкому розумінні, модулі грають роль бібліотек інструментів.  \n",
    "\n",
    "Модуль - це, головним чином, лише пакет імен змінних, відомий як **простір імен**.\n",
    "\n",
    "Імена всередині цього пакету мають назву **атрибути**, тобто **атрибут** -  це і'мя змінної, яка зв'язана з визначеним об'єктом (таким як модуль)."
   ]
  },
  {
   "cell_type": "markdown",
   "metadata": {},
   "source": [
    "Взагалі синтаксис нотації з крапкою у вигляді, наприклад `object.attribute`дозволяє, у відповідності до принципів об'єктно-орієнтованого програмування, отримати доступ до будь-якого **атрибуту** в будь-якому об'єкті і цей принцип доступу широко використовується в програмному коді на мові Python."
   ]
  },
  {
   "cell_type": "markdown",
   "metadata": {},
   "source": [
    "`dir` - функція для отримання списку всіх імен (атрибутів), доступних всередині модуля"
   ]
  },
  {
   "cell_type": "markdown",
   "metadata": {},
   "source": [
    "Кожен файл модуля - це самостійний пакет змінних, або **простір імен (namespace)**"
   ]
  },
  {
   "cell_type": "markdown",
   "metadata": {},
   "source": [
    "Запуск модулів за допомогою функції **`exec`**\n",
    "\n",
    "`exec(open('module.py').read())`  – це ще один спосіб виконувати файли із інтерактивної оболонки **IDLE**, фактично без імпортування модуля. \n",
    "\n",
    "Кожен наступний виклик `exec` буде виконувати поточну версію файла і ліквідує необхідність пізніше виконувати перезавантаження модуля, але можлива втрата значень змінних.  \n"
   ]
  },
  {
   "cell_type": "markdown",
   "metadata": {},
   "source": [
    "## Відлагодження коду"
   ]
  },
  {
   "cell_type": "markdown",
   "metadata": {},
   "source": [
    "**`pdb`** - отладчик командного рядку, доступний у вигляді модуля із стандартної бібліотеки.\n",
    "\n",
    "При його використанні можні виконувати програмний код по рядках послідовно, із відображенням змінних, встановлювати і знищувати точки зупинення. "
   ]
  },
  {
   "cell_type": "code",
   "execution_count": null,
   "metadata": {},
   "outputs": [],
   "source": []
  }
 ],
 "metadata": {
  "kernelspec": {
   "display_name": "Python 3",
   "language": "python",
   "name": "python3"
  },
  "language_info": {
   "codemirror_mode": {
    "name": "ipython",
    "version": 3
   },
   "file_extension": ".py",
   "mimetype": "text/x-python",
   "name": "python",
   "nbconvert_exporter": "python",
   "pygments_lexer": "ipython3",
   "version": "3.7.6"
  }
 },
 "nbformat": 4,
 "nbformat_minor": 2
}
